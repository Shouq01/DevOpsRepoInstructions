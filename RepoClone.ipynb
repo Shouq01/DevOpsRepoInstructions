{
 "cells": [
  {
   "cell_type": "markdown",
   "metadata": {},
   "source": [
    "<img src=\"./images/twaiq.jpeg\" width=\"110\" height=\"120\" style=\"float:right\"/>\n",
    "\n",
    "\n",
    "\n",
    " # Intro To DevOps Workshop - Tuwaiq Academy \n",
    "\n",
    "\n",
    "DevOps is the combination of cultural philosophies, practices, and tools that increases an organization’s ability to deliver applications and services at high velocity -AWS Blog\n"
   ]
  },
  {
   "cell_type": "markdown",
   "metadata": {},
   "source": [
    "---"
   ]
  },
  {
   "cell_type": "markdown",
   "metadata": {},
   "source": [
    "\n",
    "\n",
    "### Instructor :\n",
    "#### Abdulrahman Al-Otaibi \n",
    "\n",
    "<img src=\"./images/teacher.jpeg\" width=\"100\" height=\"110\" style=\" float:right;\"/>\n",
    "\n",
    "<a href=\"https://github.com/abdulrahmanAlotaibi\"> <img src=\"./images/gitty.png\" width=\"40\" height=\"50\" style=\"float:left\" href=\"https://github.com/abdulrahmanAlotaibi\"/> </a>\n",
    "\n"
   ]
  },
  {
   "cell_type": "markdown",
   "metadata": {},
   "source": [
    "### DevOps Workshop Repository Link :"
   ]
  },
  {
   "cell_type": "markdown",
   "metadata": {},
   "source": [
    " \n",
    "<a href=\"https://github.com/abdulrahmanAlotaibi/intro-devops-tuwaiq\"> <img src=\"./images/GitHub.png\" width=\"70\" height=\"80\" style=\"float:left\" href=\"https://github.com/abdulrahmanAlotaibi/intro-devops-tuwaiq\"/> </a>"
   ]
  },
  {
   "cell_type": "markdown",
   "metadata": {},
   "source": [
    "---"
   ]
  },
  {
   "cell_type": "markdown",
   "metadata": {},
   "source": [
    "<h1 style=\"text-align : center;\"> Introducing the steps to Clone a Github Repositpry project </h1>"
   ]
  },
  {
   "cell_type": "markdown",
   "metadata": {},
   "source": [
    "## Clone a Github Project Repository "
   ]
  },
  {
   "cell_type": "markdown",
   "metadata": {},
   "source": [
    "<p> Below are the steps in order to Clone a Github Project Repository to your local machine : </p>"
   ]
  },
  {
   "cell_type": "markdown",
   "metadata": {},
   "source": [
    "### 1. Navigate the required Repository link\n",
    "Ex. Intro-DevOps-Twaiq Repository link :\n",
    "\n",
    "https://github.com/abdulrahmanAlotaibi/intro-devops-tuwaiq"
   ]
  },
  {
   "cell_type": "markdown",
   "metadata": {},
   "source": [
    "<img src=\"./images/repo.png\" width=\"900\" height=\"1000\" style=\"float:center\"/>"
   ]
  },
  {
   "cell_type": "markdown",
   "metadata": {},
   "source": [
    "### 2. Click on the < > Code button \n",
    "Click on the shown below Code button and copy the URL in order to use to clone the project repository."
   ]
  },
  {
   "cell_type": "markdown",
   "metadata": {},
   "source": [
    "<img src=\"./images/repoCode.png\" width=\"900\" height=\"1000\" style=\"float:center\"/>"
   ]
  },
  {
   "cell_type": "markdown",
   "metadata": {},
   "source": [
    "### 3. Open your preffered editor\n",
    "And Here we're using Visual Studio Code."
   ]
  },
  {
   "cell_type": "markdown",
   "metadata": {},
   "source": [
    "<img src=\"./images/cloneRepo.png\" width=\"900\" height=\"1000\" style=\"float:center\"/>"
   ]
  },
  {
   "cell_type": "markdown",
   "metadata": {},
   "source": [
    "### 3. Clone the repository URL\n",
    "Paste the copied URL in step 2 to clone and click on Clone from URL."
   ]
  },
  {
   "cell_type": "markdown",
   "metadata": {},
   "source": [
    "<img src=\"./images/cloneURL.png\" width=\"900\" height=\"1000\" style=\"float:center\"/>"
   ]
  },
  {
   "cell_type": "markdown",
   "metadata": {},
   "source": [
    "### 4. Specify the local location for the project\n",
    "Here we need to specify the local location for the directory in where to store the cloned project and then Click on Select Repository Location , it will load and a pop up will show to ask you if you like to Open the cloned Repsitory, Click on Open and now the application will open for you to edit."
   ]
  },
  {
   "cell_type": "markdown",
   "metadata": {},
   "source": [
    "<img src=\"./images/repoLocal.png\" width=\"900\" height=\"1000\" style=\"float:center\"/>\n",
    "<img src=\"./images/open.png\" width=\"900\" height=\"1000\" style=\"float:center\"/>"
   ]
  },
  {
   "cell_type": "markdown",
   "metadata": {},
   "source": [
    "### 5. Now You're Ready To Go \n",
    "Start building your own version of the cloned project !."
   ]
  },
  {
   "cell_type": "markdown",
   "metadata": {},
   "source": [
    "![happyCode](https://tenor.com/view/cat-computer-typing-fast-gif-5368357.gif)"
   ]
  }
 ],
 "metadata": {
  "kernelspec": {
   "display_name": "Python 3",
   "language": "python",
   "name": "python3"
  },
  "language_info": {
   "codemirror_mode": {
    "name": "ipython",
    "version": 3
   },
   "file_extension": ".py",
   "mimetype": "text/x-python",
   "name": "python",
   "nbconvert_exporter": "python",
   "pygments_lexer": "ipython3",
   "version": "3.8.5"
  }
 },
 "nbformat": 4,
 "nbformat_minor": 4
}
